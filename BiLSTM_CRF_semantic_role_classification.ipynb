{
 "cells": [
  {
   "cell_type": "markdown",
   "metadata": {},
   "source": [
    "# Thai Named Entity Recognition Using Bi-LSTM + CRF\n",
    "## The model use Bi-directional LSTM with Word / Character representation and CRF for sequece tagging\n",
    "\n",
    "perform keras backend\n",
    "\n",
    "- Word Embedding : v. 0.32 Thai2Fit 400 dimension\n",
    "- Char Embedding : Bi-LSTM training from scratch 32 dimension"
   ]
  },
  {
   "cell_type": "markdown",
   "metadata": {},
   "source": [
    "## Declare Path for Model and Dataset\n",
    "Declare user path to load/save model and dataset\n",
    "In this file include:\n",
    "- raw path\n",
    "- model path\n",
    "- word embedding path\n",
    "- dictionary path (char2index / ner2index)"
   ]
  },
  {
   "cell_type": "code",
   "execution_count": 1,
   "metadata": {},
   "outputs": [],
   "source": [
    "DATA_PATH='./'\n",
    "RAW_PATH = f'{DATA_PATH}raw/'\n",
    "MODEL_PATH = f'{DATA_PATH}bilstm_crf/'\n",
    "# MODEL_NAME = \"last_weight-50.hdf5\"\n",
    "W_MODEL_PATH = f'{DATA_PATH}model/thai2fit/'\n",
    "# TRAIN_PATH = f'{RAW_PATH}train.data'\n",
    "# VALIDATION_PATH = f'{RAW_PATH}val.data'"
   ]
  },
  {
   "cell_type": "code",
   "execution_count": 2,
   "metadata": {},
   "outputs": [],
   "source": [
    "# %run sem_role_bilstmcrf.py --train_data=$TRAIN_PATH --validation_data=$VALIDATION_PATH \\\n",
    "#         --model_path=$MODEL_PATH --model_name=$MODEL_NAME --w_model_path=$W_MODEL_PATH"
   ]
  },
  {
   "cell_type": "code",
   "execution_count": 3,
   "metadata": {},
   "outputs": [],
   "source": [
    "runs = {f'f{i}':f'_cv{i}' for i in range(5)}\n",
    "runs.update({'oov':'_oov', 'one':''})\n",
    "runs_param = [(f'train{v}.data', f'val{v}.data', f'last_weight_{k}.hdf5') for k, v in runs.items()]"
   ]
  },
  {
   "cell_type": "code",
   "execution_count": null,
   "metadata": {},
   "outputs": [
    {
     "name": "stderr",
     "output_type": "stream",
     "text": [
      "Using TensorFlow backend.\n"
     ]
    },
    {
     "name": "stdout",
     "output_type": "stream",
     "text": [
      "Tensorflow Version : 1.15.0\n",
      "Keras Version : 2.2.4\n",
      "=====================================\n",
      "TRAIN_PATH \t\t=  ./raw/train_cv0.data\n",
      "VALIDATION_PATH \t=  ./raw/val_cv0.data\n",
      "MODEL_PATH \t\t=  ./frame_model/\n",
      "MODEL_NAME \t\t=  last_weight_f0.hdf5\n",
      "Word_Embed__MODEL_PATH \t=  ./model/thai2fit/\n",
      "Dict_MODEL_PATH \t=  ./frame_model//dictionary/\n",
      "=========  Hyperparameters  =========\n",
      "max_len \t\t=  250\n",
      "max_len_char \t\t=  30 \n",
      "\n",
      "character_LSTM_unit \t=  32\n",
      "char_embedding_dim \t=  32\n",
      "main_lstm_unit \t\t=  256\n",
      "lstm_recurrent_dropout \t=  0.5 \n",
      "\n",
      "train_batch_size \t=  32\n",
      "train_epochs \t\t=  40\n",
      "=====================================\n",
      "Train sentences =  1790\n",
      "Test sentences  =  448\n",
      "Sample sentence :  [('ทำให้', 'Verb'), ('เกิด', 'Verb'), ('โรค', 'Object'), ('รากเน่า', 'Object'), ('ได้', 'Z-O'), ('_', 'Z-O')]\n",
      "\n",
      "Load Thai2Fit model completed ...\n",
      "\n",
      "No. of unique words :  2236\n",
      "No. of tags :  13\n",
      "No. of known words :  55677\n",
      "Semantic role tag :  {'Accompanyment': 0, 'Agent': 1, 'Benefactor': 2, 'Experiencer': 3, 'Instrument': 4, 'Location': 5, 'Manner': 6, 'Measure': 7, 'Object': 8, 'Time': 9, 'Verb': 10, 'Z-O': 11, 'pad': 12}\n",
      "No. of unique characters :  399\n",
      "\n",
      "Save Dictionary for Character and Semantic Role Tag completed ...\n",
      "\n",
      "Prepare Training Dataset started ...\n",
      "Prepare Training Dataset completed ...\n",
      "\n",
      "Prepare Validation Dataset started ...\n",
      "Prepare Validation Dataset completed ...\n",
      "\n",
      "WARNING:tensorflow:From /home/yoyo/anaconda3/envs/tf1/lib/python3.6/site-packages/keras/backend/tensorflow_backend.py:517: The name tf.placeholder is deprecated. Please use tf.compat.v1.placeholder instead.\n",
      "\n",
      "WARNING:tensorflow:From /home/yoyo/anaconda3/envs/tf1/lib/python3.6/site-packages/keras/backend/tensorflow_backend.py:4138: The name tf.random_uniform is deprecated. Please use tf.random.uniform instead.\n",
      "\n",
      "WARNING:tensorflow:From /home/yoyo/anaconda3/envs/tf1/lib/python3.6/site-packages/keras/backend/tensorflow_backend.py:174: The name tf.get_default_session is deprecated. Please use tf.compat.v1.get_default_session instead.\n",
      "\n",
      "WARNING:tensorflow:From /home/yoyo/anaconda3/envs/tf1/lib/python3.6/site-packages/keras/backend/tensorflow_backend.py:181: The name tf.ConfigProto is deprecated. Please use tf.compat.v1.ConfigProto instead.\n",
      "\n",
      "WARNING:tensorflow:From /home/yoyo/anaconda3/envs/tf1/lib/python3.6/site-packages/keras/backend/tensorflow_backend.py:186: The name tf.Session is deprecated. Please use tf.compat.v1.Session instead.\n",
      "\n",
      "WARNING:tensorflow:From /home/yoyo/anaconda3/envs/tf1/lib/python3.6/site-packages/keras/backend/tensorflow_backend.py:190: The name tf.global_variables is deprecated. Please use tf.compat.v1.global_variables instead.\n",
      "\n",
      "WARNING:tensorflow:From /home/yoyo/anaconda3/envs/tf1/lib/python3.6/site-packages/keras/backend/tensorflow_backend.py:199: The name tf.is_variable_initialized is deprecated. Please use tf.compat.v1.is_variable_initialized instead.\n",
      "\n",
      "WARNING:tensorflow:From /home/yoyo/anaconda3/envs/tf1/lib/python3.6/site-packages/keras/backend/tensorflow_backend.py:206: The name tf.variables_initializer is deprecated. Please use tf.compat.v1.variables_initializer instead.\n",
      "\n",
      "WARNING:tensorflow:From /home/yoyo/anaconda3/envs/tf1/lib/python3.6/site-packages/keras/backend/tensorflow_backend.py:74: The name tf.get_default_graph is deprecated. Please use tf.compat.v1.get_default_graph instead.\n",
      "\n",
      "WARNING:tensorflow:From /home/yoyo/anaconda3/envs/tf1/lib/python3.6/site-packages/keras/backend/tensorflow_backend.py:133: The name tf.placeholder_with_default is deprecated. Please use tf.compat.v1.placeholder_with_default instead.\n",
      "\n",
      "WARNING:tensorflow:From /home/yoyo/anaconda3/envs/tf1/lib/python3.6/site-packages/keras/backend/tensorflow_backend.py:3445: calling dropout (from tensorflow.python.ops.nn_ops) with keep_prob is deprecated and will be removed in a future version.\n",
      "Instructions for updating:\n",
      "Please use `rate` instead of `keep_prob`. Rate should be set to `rate = 1 - keep_prob`.\n",
      "WARNING:tensorflow:From /home/yoyo/anaconda3/envs/tf1/lib/python3.6/site-packages/keras/optimizers.py:790: The name tf.train.Optimizer is deprecated. Please use tf.compat.v1.train.Optimizer instead.\n",
      "\n",
      "WARNING:tensorflow:From /home/yoyo/anaconda3/envs/tf1/lib/python3.6/site-packages/tensorflow_core/python/ops/math_ops.py:2509: where (from tensorflow.python.ops.array_ops) is deprecated and will be removed in a future version.\n",
      "Instructions for updating:\n",
      "Use tf.where in 2.0, which has the same broadcast rule as np.where\n"
     ]
    },
    {
     "name": "stderr",
     "output_type": "stream",
     "text": [
      "/home/yoyo/anaconda3/envs/tf1/lib/python3.6/site-packages/keras_contrib/layers/crf.py:346: UserWarning: CRF.loss_function is deprecated and it might be removed in the future. Please use losses.crf_loss instead.\n",
      "  warnings.warn('CRF.loss_function is deprecated '\n",
      "/home/yoyo/anaconda3/envs/tf1/lib/python3.6/site-packages/keras_contrib/layers/crf.py:353: UserWarning: CRF.accuracy is deprecated and it might be removed in the future. Please use metrics.crf_accuracy\n",
      "  warnings.warn('CRF.accuracy is deprecated and it '\n"
     ]
    },
    {
     "name": "stdout",
     "output_type": "stream",
     "text": [
      "__________________________________________________________________________________________________\n",
      "Layer (type)                    Output Shape         Param #     Connected to                     \n",
      "==================================================================================================\n",
      "char_input (InputLayer)         (None, 250, 30)      0                                            \n",
      "__________________________________________________________________________________________________\n",
      "word_input_ (InputLayer)        (None, 250)          0                                            \n",
      "__________________________________________________________________________________________________\n",
      "time_distributed_1 (TimeDistrib (None, 250, 30, 32)  12768       char_input[0][0]                 \n",
      "__________________________________________________________________________________________________\n",
      "word_embedding (Embedding)      (None, 250, 400)     22270800    word_input_[0][0]                \n",
      "__________________________________________________________________________________________________\n",
      "time_distributed_2 (TimeDistrib (None, 250, 64)      16640       time_distributed_1[0][0]         \n",
      "__________________________________________________________________________________________________\n",
      "concatenate_1 (Concatenate)     (None, 250, 464)     0           word_embedding[0][0]             \n",
      "                                                                 time_distributed_2[0][0]         \n",
      "__________________________________________________________________________________________________\n",
      "spatial_dropout1d_1 (SpatialDro (None, 250, 464)     0           concatenate_1[0][0]              \n",
      "__________________________________________________________________________________________________\n",
      "bidirectional_2 (Bidirectional) (None, 250, 512)     1476608     spatial_dropout1d_1[0][0]        \n",
      "__________________________________________________________________________________________________\n",
      "time_distributed_3 (TimeDistrib (None, 250, 50)      25650       bidirectional_2[0][0]            \n",
      "__________________________________________________________________________________________________\n",
      "crf_1 (CRF)                     (None, 250, 13)      858         time_distributed_3[0][0]         \n",
      "==================================================================================================\n",
      "Total params: 23,803,324\n",
      "Trainable params: 1,532,524\n",
      "Non-trainable params: 22,270,800\n",
      "__________________________________________________________________________________________________\n",
      "Training Model started ...\n",
      "WARNING:tensorflow:From /home/yoyo/anaconda3/envs/tf1/lib/python3.6/site-packages/keras/backend/tensorflow_backend.py:986: The name tf.assign_add is deprecated. Please use tf.compat.v1.assign_add instead.\n",
      "\n",
      "WARNING:tensorflow:From /home/yoyo/anaconda3/envs/tf1/lib/python3.6/site-packages/keras/backend/tensorflow_backend.py:973: The name tf.assign is deprecated. Please use tf.compat.v1.assign instead.\n",
      "\n",
      "Train on 1790 samples, validate on 448 samples\n",
      "Epoch 1/40\n",
      "1790/1790 [==============================] - 50s 28ms/step - loss: 0.2361 - crf_viterbi_accuracy: 0.9494 - val_loss: 0.0768 - val_crf_viterbi_accuracy: 0.9769\n",
      "\n",
      "Epoch 00001: val_crf_viterbi_accuracy improved from -inf to 0.97686, saving model to ./frame_model/checkpoint.hdf5\n",
      "Epoch 2/40\n",
      "1790/1790 [==============================] - 46s 26ms/step - loss: 0.0659 - crf_viterbi_accuracy: 0.9784 - val_loss: 0.0617 - val_crf_viterbi_accuracy: 0.9790\n",
      "\n",
      "Epoch 00002: val_crf_viterbi_accuracy improved from 0.97686 to 0.97904, saving model to ./frame_model/checkpoint.hdf5\n",
      "Epoch 3/40\n",
      "1790/1790 [==============================] - 46s 26ms/step - loss: 0.0552 - crf_viterbi_accuracy: 0.9802 - val_loss: 0.0553 - val_crf_viterbi_accuracy: 0.9786\n",
      "\n",
      "Epoch 00003: val_crf_viterbi_accuracy did not improve from 0.97904\n",
      "Epoch 4/40\n",
      "1790/1790 [==============================] - 47s 26ms/step - loss: 0.0482 - crf_viterbi_accuracy: 0.9822 - val_loss: 0.0480 - val_crf_viterbi_accuracy: 0.9826\n",
      "\n",
      "Epoch 00004: val_crf_viterbi_accuracy improved from 0.97904 to 0.98260, saving model to ./frame_model/checkpoint.hdf5\n",
      "Epoch 5/40\n",
      "1790/1790 [==============================] - 47s 26ms/step - loss: 0.0436 - crf_viterbi_accuracy: 0.9834 - val_loss: 0.0445 - val_crf_viterbi_accuracy: 0.9835\n",
      "\n",
      "Epoch 00005: val_crf_viterbi_accuracy improved from 0.98260 to 0.98354, saving model to ./frame_model/checkpoint.hdf5\n",
      "Epoch 6/40\n",
      "1790/1790 [==============================] - 47s 26ms/step - loss: 0.0401 - crf_viterbi_accuracy: 0.9843 - val_loss: 0.0432 - val_crf_viterbi_accuracy: 0.9827\n",
      "\n",
      "Epoch 00006: val_crf_viterbi_accuracy did not improve from 0.98354\n",
      "Epoch 7/40\n",
      "1790/1790 [==============================] - 47s 27ms/step - loss: 0.0386 - crf_viterbi_accuracy: 0.9843 - val_loss: 0.0412 - val_crf_viterbi_accuracy: 0.9830\n",
      "\n",
      "Epoch 00007: val_crf_viterbi_accuracy did not improve from 0.98354\n",
      "Epoch 8/40\n",
      "1790/1790 [==============================] - 47s 26ms/step - loss: 0.0359 - crf_viterbi_accuracy: 0.9850 - val_loss: 0.0391 - val_crf_viterbi_accuracy: 0.9848\n",
      "\n",
      "Epoch 00008: val_crf_viterbi_accuracy improved from 0.98354 to 0.98479, saving model to ./frame_model/checkpoint.hdf5\n",
      "Epoch 9/40\n",
      " 288/1790 [===>..........................] - ETA: 37s - loss: 0.0360 - crf_viterbi_accuracy: 0.9845"
     ]
    }
   ],
   "source": [
    "for train_name, val_name, model_name in runs_param:\n",
    "    TRAIN_PATH = f'{RAW_PATH}{train_name}'\n",
    "    VALIDATION_PATH = f'{RAW_PATH}{val_name}'\n",
    "    MODEL_NAME = model_name\n",
    "    %run sem_role_bilstmcrf.py --train_data=$TRAIN_PATH --validation_data=$VALIDATION_PATH \\\n",
    "            --model_path=$MODEL_PATH --model_name=$MODEL_NAME --w_model_path=$W_MODEL_PATH"
   ]
  },
  {
   "cell_type": "code",
   "execution_count": null,
   "metadata": {},
   "outputs": [],
   "source": [
    "# !python sem_role_bilstmcrf.py --train_data=$TRAIN_PATH --validation_data=$VALIDATION_PATH \\\n",
    "#         --model_path=$MODEL_PATH --model_name=$MODEL_NAME --w_model_path=$W_MODEL_PATH"
   ]
  }
 ],
 "metadata": {
  "kernelspec": {
   "display_name": "TF1",
   "language": "python",
   "name": "tf1"
  },
  "language_info": {
   "codemirror_mode": {
    "name": "ipython",
    "version": 3
   },
   "file_extension": ".py",
   "mimetype": "text/x-python",
   "name": "python",
   "nbconvert_exporter": "python",
   "pygments_lexer": "ipython3",
   "version": "3.6.13"
  }
 },
 "nbformat": 4,
 "nbformat_minor": 4
}
