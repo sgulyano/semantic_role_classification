{
 "cells": [
  {
   "cell_type": "markdown",
   "id": "81111182-0ea5-4be3-bd08-e8f34ac5003f",
   "metadata": {},
   "source": [
    "# ทำ Semantic Role Classification ภาษาไทย โดยใช้ Transformers Model จาก Hugging Face\n",
    "\n",
    "สร้าง Custom Dataset Loading Script\n",
    "- https://mageswaran1989.medium.com/how-to-build-custom-ner-huggingface-dataset-for-receipts-and-train-with-huggingface-transformers-6c954b84473c\n",
    "- https://huggingface.co/docs/datasets/dataset_script.html#download-data-files-and-organize-splits\n",
    "\n",
    "การใช้ Transformers Model จาก Hugging Face\n",
    "- https://medium.com/super-ai-engineer/ทำ-ner-ภาษาไทย-โดยใช้-transformers-model-จาก-huggingface-130c7a201d5e"
   ]
  },
  {
   "cell_type": "code",
   "execution_count": 1,
   "id": "3a8237c3-bd4f-42d4-9181-6fedfce42628",
   "metadata": {},
   "outputs": [],
   "source": [
    "MODEL_PATH = f'./bert/'\n",
    "MODEL_NAME = \"semrole_bert\"\n",
    "CONFIG_NAME = 'std'"
   ]
  },
  {
   "cell_type": "code",
   "execution_count": null,
   "id": "ac570743-fcca-4211-9a02-1f2bddd2a86a",
   "metadata": {},
   "outputs": [],
   "source": [
    "for CONFIG_NAME in ['cv0', 'cv1', 'cv2', 'cv3', 'cv4', 'oov' ,'std']\n",
    "    %run sem_role_transformer.py --config_name=$CONFIG_NAME --model_path=$MODEL_PATH --model_name=$MODEL_NAME"
   ]
  },
  {
   "cell_type": "code",
   "execution_count": null,
   "id": "a247cbbb-2c71-457c-a95b-494cec86f742",
   "metadata": {},
   "outputs": [
    {
     "name": "stderr",
     "output_type": "stream",
     "text": [
      "2022-01-25 16:26:09.202821: I tensorflow/stream_executor/platform/default/dso_loader.cc:49] Successfully opened dynamic library libcudart.so.11.0\n",
      "Reusing dataset sem_role_bank (/home/yoyo/.cache/huggingface/datasets/sem_role_bank/std/1.0.0/0c634fc12d7a4053678206c059870924992d934fd51018d1ac4d8227d3472504)\n"
     ]
    },
    {
     "name": "stdout",
     "output_type": "stream",
     "text": [
      "Hugging Face Transformers Version : 4.15.0\n",
      "Hugging Face Tokenizers Version : 0.10.3\n",
      "=====================================\n",
      "CONFIG_NAME \t\t=  std\n",
      "MODEL_PATH \t\t=  ./bert/\n",
      "MODEL_NAME \t\t=  semrole_bert\n",
      "=========  Hyperparameters  =========\n",
      "model_checkpoint \t=  Geotrend/bert-base-th-cased\n",
      "batch_size \t\t=  4\n",
      "=====================================\n"
     ]
    },
    {
     "data": {
      "application/vnd.jupyter.widget-view+json": {
       "model_id": "02eec114239a46f8b4b51878971ba7ac",
       "version_major": 2,
       "version_minor": 0
      },
      "text/plain": [
       "  0%|          | 0/2 [00:00<?, ?it/s]"
      ]
     },
     "metadata": {},
     "output_type": "display_data"
    },
    {
     "name": "stdout",
     "output_type": "stream",
     "text": [
      "Dataset :  DatasetDict({\n",
      "    train: Dataset({\n",
      "        features: ['id', 'tokens', 'role_tags'],\n",
      "        num_rows: 1790\n",
      "    })\n",
      "    validation: Dataset({\n",
      "        features: ['id', 'tokens', 'role_tags'],\n",
      "        num_rows: 448\n",
      "    })\n",
      "})\n",
      "Sample  :  ['สามารถ', 'ขาย', 'ผลผลิต', 'หมด', 'ก่อน', 'เที่ยง']\n",
      "Label List :  ['Accompanyment', 'Agent', 'Benefactor', 'Experiencer', 'Instrument', 'Location', 'Manner', 'Measure', 'Object', 'Time', 'Verb', 'Z-O']\n",
      "\n",
      "Tokenization started ...\n"
     ]
    },
    {
     "name": "stderr",
     "output_type": "stream",
     "text": [
      "Loading cached processed dataset at /home/yoyo/.cache/huggingface/datasets/sem_role_bank/std/1.0.0/0c634fc12d7a4053678206c059870924992d934fd51018d1ac4d8227d3472504/cache-e076fe9b011a2b98.arrow\n",
      "Loading cached processed dataset at /home/yoyo/.cache/huggingface/datasets/sem_role_bank/std/1.0.0/0c634fc12d7a4053678206c059870924992d934fd51018d1ac4d8227d3472504/cache-2212b843159a27f0.arrow\n"
     ]
    },
    {
     "name": "stdout",
     "output_type": "stream",
     "text": [
      "Tokenization completed ...\n",
      "\n"
     ]
    },
    {
     "name": "stderr",
     "output_type": "stream",
     "text": [
      "Some weights of the model checkpoint at Geotrend/bert-base-th-cased were not used when initializing BertForTokenClassification: ['cls.predictions.transform.LayerNorm.bias', 'cls.predictions.decoder.bias', 'cls.predictions.transform.LayerNorm.weight', 'cls.predictions.decoder.weight', 'cls.predictions.transform.dense.bias', 'cls.predictions.bias', 'cls.predictions.transform.dense.weight']\n",
      "- This IS expected if you are initializing BertForTokenClassification from the checkpoint of a model trained on another task or with another architecture (e.g. initializing a BertForSequenceClassification model from a BertForPreTraining model).\n",
      "- This IS NOT expected if you are initializing BertForTokenClassification from the checkpoint of a model that you expect to be exactly identical (initializing a BertForSequenceClassification model from a BertForSequenceClassification model).\n",
      "Some weights of BertForTokenClassification were not initialized from the model checkpoint at Geotrend/bert-base-th-cased and are newly initialized: ['classifier.weight', 'classifier.bias']\n",
      "You should probably TRAIN this model on a down-stream task to be able to use it for predictions and inference.\n",
      "The following columns in the training set  don't have a corresponding argument in `BertForTokenClassification.forward` and have been ignored: role_tags, tokens, id.\n",
      "***** Running training *****\n",
      "  Num examples = 1790\n",
      "  Num Epochs = 8\n",
      "  Instantaneous batch size per device = 4\n",
      "  Total train batch size (w. parallel, distributed & accumulation) = 4\n",
      "  Gradient Accumulation steps = 1\n",
      "  Total optimization steps = 3584\n"
     ]
    },
    {
     "name": "stdout",
     "output_type": "stream",
     "text": [
      "Training Model started ...\n"
     ]
    },
    {
     "data": {
      "text/html": [
       "\n",
       "    <div>\n",
       "      \n",
       "      <progress value='471' max='3584' style='width:300px; height:20px; vertical-align: middle;'></progress>\n",
       "      [ 471/3584 00:31 < 03:26, 15.06 it/s, Epoch 1.05/8]\n",
       "    </div>\n",
       "    <table border=\"1\" class=\"dataframe\">\n",
       "  <thead>\n",
       "    <tr style=\"text-align: left;\">\n",
       "      <th>Epoch</th>\n",
       "      <th>Training Loss</th>\n",
       "      <th>Validation Loss</th>\n",
       "      <th>Precision</th>\n",
       "      <th>Recall</th>\n",
       "      <th>F1</th>\n",
       "      <th>Accuracy</th>\n",
       "    </tr>\n",
       "  </thead>\n",
       "  <tbody>\n",
       "    <tr>\n",
       "      <td>1</td>\n",
       "      <td>1.245300</td>\n",
       "      <td>1.003023</td>\n",
       "      <td>0.350308</td>\n",
       "      <td>0.415085</td>\n",
       "      <td>0.379955</td>\n",
       "      <td>0.636041</td>\n",
       "    </tr>\n",
       "  </tbody>\n",
       "</table><p>"
      ],
      "text/plain": [
       "<IPython.core.display.HTML object>"
      ]
     },
     "metadata": {},
     "output_type": "display_data"
    },
    {
     "name": "stderr",
     "output_type": "stream",
     "text": [
      "The following columns in the evaluation set  don't have a corresponding argument in `BertForTokenClassification.forward` and have been ignored: role_tags, tokens, id.\n",
      "***** Running Evaluation *****\n",
      "  Num examples = 448\n",
      "  Batch size = 4\n",
      "/home/yoyo/anaconda3/envs/bert/lib/python3.8/site-packages/seqeval/metrics/sequence_labeling.py:171: UserWarning: Z-O seems not to be NE tag.\n",
      "  warnings.warn('{} seems not to be NE tag.'.format(chunk))\n",
      "/home/yoyo/anaconda3/envs/bert/lib/python3.8/site-packages/seqeval/metrics/sequence_labeling.py:171: UserWarning: Verb seems not to be NE tag.\n",
      "  warnings.warn('{} seems not to be NE tag.'.format(chunk))\n",
      "/home/yoyo/anaconda3/envs/bert/lib/python3.8/site-packages/seqeval/metrics/sequence_labeling.py:171: UserWarning: Object seems not to be NE tag.\n",
      "  warnings.warn('{} seems not to be NE tag.'.format(chunk))\n",
      "/home/yoyo/anaconda3/envs/bert/lib/python3.8/site-packages/seqeval/metrics/sequence_labeling.py:171: UserWarning: Manner seems not to be NE tag.\n",
      "  warnings.warn('{} seems not to be NE tag.'.format(chunk))\n",
      "/home/yoyo/anaconda3/envs/bert/lib/python3.8/site-packages/seqeval/metrics/sequence_labeling.py:171: UserWarning: Time seems not to be NE tag.\n",
      "  warnings.warn('{} seems not to be NE tag.'.format(chunk))\n",
      "/home/yoyo/anaconda3/envs/bert/lib/python3.8/site-packages/seqeval/metrics/sequence_labeling.py:171: UserWarning: Agent seems not to be NE tag.\n",
      "  warnings.warn('{} seems not to be NE tag.'.format(chunk))\n",
      "/home/yoyo/anaconda3/envs/bert/lib/python3.8/site-packages/seqeval/metrics/sequence_labeling.py:171: UserWarning: Measure seems not to be NE tag.\n",
      "  warnings.warn('{} seems not to be NE tag.'.format(chunk))\n",
      "/home/yoyo/anaconda3/envs/bert/lib/python3.8/site-packages/seqeval/metrics/sequence_labeling.py:171: UserWarning: Location seems not to be NE tag.\n",
      "  warnings.warn('{} seems not to be NE tag.'.format(chunk))\n",
      "/home/yoyo/anaconda3/envs/bert/lib/python3.8/site-packages/seqeval/metrics/sequence_labeling.py:171: UserWarning: Experiencer seems not to be NE tag.\n",
      "  warnings.warn('{} seems not to be NE tag.'.format(chunk))\n",
      "/home/yoyo/anaconda3/envs/bert/lib/python3.8/site-packages/seqeval/metrics/sequence_labeling.py:171: UserWarning: Accompanyment seems not to be NE tag.\n",
      "  warnings.warn('{} seems not to be NE tag.'.format(chunk))\n",
      "/home/yoyo/anaconda3/envs/bert/lib/python3.8/site-packages/seqeval/metrics/sequence_labeling.py:171: UserWarning: Benefactor seems not to be NE tag.\n",
      "  warnings.warn('{} seems not to be NE tag.'.format(chunk))\n",
      "/home/yoyo/anaconda3/envs/bert/lib/python3.8/site-packages/seqeval/metrics/sequence_labeling.py:171: UserWarning: Instrument seems not to be NE tag.\n",
      "  warnings.warn('{} seems not to be NE tag.'.format(chunk))\n",
      "/home/yoyo/anaconda3/envs/bert/lib/python3.8/site-packages/seqeval/metrics/v1.py:57: UndefinedMetricWarning: Precision and F-score are ill-defined and being set to 0.0 in labels with no predicted samples. Use `zero_division` parameter to control this behavior.\n",
      "  _warn_prf(average, modifier, msg_start, len(result))\n",
      "Saving model checkpoint to ./bert/checkpoint-448\n",
      "Configuration saved in ./bert/checkpoint-448/config.json\n",
      "Model weights saved in ./bert/checkpoint-448/pytorch_model.bin\n",
      "tokenizer config file saved in ./bert/checkpoint-448/tokenizer_config.json\n",
      "Special tokens file saved in ./bert/checkpoint-448/special_tokens_map.json\n"
     ]
    }
   ],
   "source": [
    "# %run sem_role_transformer.py --config_name=$CONFIG_NAME --model_path=$MODEL_PATH --model_name=$MODEL_NAME"
   ]
  }
 ],
 "metadata": {
  "kernelspec": {
   "display_name": "BERT",
   "language": "python",
   "name": "bert"
  },
  "language_info": {
   "codemirror_mode": {
    "name": "ipython",
    "version": 3
   },
   "file_extension": ".py",
   "mimetype": "text/x-python",
   "name": "python",
   "nbconvert_exporter": "python",
   "pygments_lexer": "ipython3",
   "version": "3.8.12"
  }
 },
 "nbformat": 4,
 "nbformat_minor": 5
}
